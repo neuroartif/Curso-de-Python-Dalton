{
  "nbformat": 4,
  "nbformat_minor": 0,
  "metadata": {
    "colab": {
      "provenance": [],
      "toc_visible": true,
      "include_colab_link": true
    },
    "kernelspec": {
      "name": "python3",
      "display_name": "Python 3"
    },
    "language_info": {
      "name": "python"
    }
  },
  "cells": [
    {
      "cell_type": "markdown",
      "metadata": {
        "id": "view-in-github",
        "colab_type": "text"
      },
      "source": [
        "<a href=\"https://colab.research.google.com/github/neuroartif/Curso-de-Python-Dalton/blob/main/Introducci%C3%B3n_a_Google_Colab_%7C_EvoAcademy.ipynb\" target=\"_parent\"><img src=\"https://colab.research.google.com/assets/colab-badge.svg\" alt=\"Open In Colab\"/></a>"
      ]
    },
    {
      "cell_type": "markdown",
      "source": [
        "![picture](https://drive.google.com/uc?id=1t85VSkuEnCm-X8egDjib0GMTGZT0LM3c)\n",
        "\n",
        "# Introducción a Google Colab\n",
        "En este cuadernillo veremos un tutorial de Google Colaboratory\n",
        "\n",
        "Preparado por Sebastián Cisterna para EvoAcademy"
      ],
      "metadata": {
        "id": "RmtP1UFVGrHt"
      }
    },
    {
      "cell_type": "markdown",
      "source": [
        "# ¿Qué es y por qué se usa Google Colab?\n",
        "Google Colaboratory, comúnmente conocido como \"Google Colab\", es un servicio gratuito en la nube proporcionado por Google. Permite a los usuarios escribir y ejecutar código Python a través del navegador, sin necesidad de ninguna configuración previa. Es particularmente popular para ciencia de datos y machine learning, por varias razones:\n",
        "\n",
        "- **No requiere configuración**: Puedes escribir y ejecutar un script de Python sin preocuparte por instalar Python o cualquier biblioteca en tu sistema.\n",
        "- **Colaboración y Compartir**: Al igual que Google Docs, Google Colab te permite compartir tus cuadernos y colaborar con otros en tiempo real.\n",
        "- **Acceso gratuito a GPU**: Google Colab ofrece acceso gratuito a GPU, lo cual puede ser extremadamente útil para entrenar modelos de aprendizaje automático, que a menudo requieren una alta capacidad computacional.\n",
        "- **Entorno de Codificación Interactivo**: Google Colab proporciona un entorno de codificación interactivo, similar a Jupyter Notebook, donde puedes escribir código y ver la salida, escribir texto en markdown para documentación y visualizar datos.\n",
        "- **Control de versiones**: Al igual que otros documentos de Google Drive, Google Colab te permite tener control de versiones"
      ],
      "metadata": {
        "id": "fSQR0qw3IuFQ"
      }
    },
    {
      "cell_type": "markdown",
      "source": [
        "## Tipos de celdas\n",
        "Cada cuaderno o notebook de Google Colab se basa en Celdas, en las cuales puedes colocar código o texto"
      ],
      "metadata": {
        "id": "8SK0rfZCHRP0"
      }
    },
    {
      "cell_type": "code",
      "source": [
        "# CELDA DE CODIGO\n",
        "# Es con fondo gris, tiene botón de play al lado\n",
        "# Se puede ejecutar"
      ],
      "metadata": {
        "id": "SkNsXUehHOBJ"
      },
      "execution_count": null,
      "outputs": []
    },
    {
      "cell_type": "markdown",
      "source": [
        "**CELDA DE TEXTO**\n",
        "\n",
        "Cuando la editas puedes ir viendo como quedando al costado derecho\n",
        "\n",
        "Acepta lenguaje Markdown\n",
        "* **Este texto está en negrita**\n",
        "* *Este texto está en cursiva*\n",
        "* Todo esto es una lista\n",
        "\n",
        "Si se te olvida algo, puedes ver la barra de arriba."
      ],
      "metadata": {
        "id": "LRCH6BHQHYTF"
      }
    },
    {
      "cell_type": "markdown",
      "source": [
        "Lo único que no suelo encontrar ahí es el tema de las tablas. Que se hace asi:\n",
        "\n",
        "| Encabezado A | Encabezado B |\n",
        "| --- | --- |\n",
        "| Dato A | Dato B |\n",
        "| Dato A | Dato B |"
      ],
      "metadata": {
        "id": "MnAThFQ6Io-n"
      }
    },
    {
      "cell_type": "markdown",
      "source": [
        "# Comparación entre Jupyter Notebook y Google Colab\n",
        "\n",
        "- **Entorno Local vs. Nube**: Jupyter Notebook es un entorno local que necesita ser configurado en tu propio sistema, mientras que Google Colab es un entorno basado en la nube accesible a través de un navegador web.\n",
        "- **Acceso a GPU y TPU**: Google Colab proporciona acceso gratuito a GPUs y TPUs, lo cual no está inherentemente disponible con Jupyter Notebook.\n",
        "- **Gestión de Paquetes y Bibliotecas**: Jupyter Notebook requiere que gestiones tus propios paquetes y bibliotecas, mientras que Google Colab viene pre-cargado con muchas bibliotecas populares utilizadas en ciencia de datos y aprendizaje automático.\n",
        "- **Colaboración y Compartir**: Google Colab permite la colaboración en tiempo real y compartir fácilmente, similar a Google Docs, mientras que la colaboración en Jupyter Notebook puede ser más complicada y generalmente requiere herramientas adicionales como GitHub."
      ],
      "metadata": {
        "id": "BYdl9Y1vKVS0"
      }
    },
    {
      "cell_type": "markdown",
      "source": [
        "# Ejercicio: Haciendo nuestro propio cuaderno\n",
        "* Creemos un notebook\n",
        "* Hablemos de que es conectarte\n",
        "* Creemos código en ese notebook\n",
        "* Revisemos que es el explorador de variables"
      ],
      "metadata": {
        "id": "e42se_P6LWvC"
      }
    },
    {
      "cell_type": "markdown",
      "source": [
        "# Cosas que debes saber"
      ],
      "metadata": {
        "id": "6m8ZQBsrM7oY"
      }
    },
    {
      "cell_type": "markdown",
      "source": [
        "## Reparando fallas"
      ],
      "metadata": {
        "id": "gc0msWhoLgKl"
      }
    },
    {
      "cell_type": "code",
      "source": [
        "# Si eres novato en python puede ser que te ocurra algo como esto\n",
        "\n",
        "print = \"hola mundo\""
      ],
      "metadata": {
        "id": "wJkROqN6LjoJ"
      },
      "execution_count": null,
      "outputs": []
    },
    {
      "cell_type": "markdown",
      "source": [
        "Si querías imprimir \"hola mundo\", este código está mal.\n",
        "Pero no solo eso, si no que va a topar con un nombre protegido. De modo tal que vas a generar un error cuando intentes correr el código bueno"
      ],
      "metadata": {
        "id": "AxukP-duL09q"
      }
    },
    {
      "cell_type": "code",
      "source": [
        "print(\"hola mundo\")"
      ],
      "metadata": {
        "colab": {
          "base_uri": "https://localhost:8080/",
          "height": 185
        },
        "id": "jrBBiKEcLw4W",
        "outputId": "5efe2c50-a0f7-4593-a730-7ad329c0f05a"
      },
      "execution_count": null,
      "outputs": [
        {
          "output_type": "error",
          "ename": "TypeError",
          "evalue": "ignored",
          "traceback": [
            "\u001b[0;31m---------------------------------------------------------------------------\u001b[0m",
            "\u001b[0;31mTypeError\u001b[0m                                 Traceback (most recent call last)",
            "\u001b[0;32m<ipython-input-3-b193fdea2b99>\u001b[0m in \u001b[0;36m<cell line: 1>\u001b[0;34m()\u001b[0m\n\u001b[0;32m----> 1\u001b[0;31m \u001b[0mprint\u001b[0m\u001b[0;34m(\u001b[0m\u001b[0;34m\"hola mundo\"\u001b[0m\u001b[0;34m)\u001b[0m\u001b[0;34m\u001b[0m\u001b[0;34m\u001b[0m\u001b[0m\n\u001b[0m",
            "\u001b[0;31mTypeError\u001b[0m: 'str' object is not callable"
          ]
        }
      ]
    },
    {
      "cell_type": "markdown",
      "source": [
        "Para solucionarlo, deberás ir a Runtime > Restart runtime. Esto reinicia la maquina, eliminando toda la información."
      ],
      "metadata": {
        "id": "lsys73pJMwKj"
      }
    },
    {
      "cell_type": "markdown",
      "source": [
        "## Colab es una instancia temporal\n",
        "* Colab es una instancia temporal. Si generas información o archivos, deberás exportarlos de algun modo pues no se va a guardar\n",
        "\n",
        "Funciones útiles para esto:\n",
        "* `gdown`\n",
        "* `files.upload()`"
      ],
      "metadata": {
        "id": "ZXt1US6sNqF-"
      }
    },
    {
      "cell_type": "code",
      "source": [
        "!gdown https://drive.google.com/uc?id=TU_ID_DEL_ARCHIVO"
      ],
      "metadata": {
        "id": "mJrFOudPNU3K"
      },
      "execution_count": null,
      "outputs": []
    },
    {
      "cell_type": "code",
      "source": [
        "from google.colab import files\n",
        "uploaded = files.upload()"
      ],
      "metadata": {
        "colab": {
          "base_uri": "https://localhost:8080/",
          "height": 38
        },
        "id": "OWSU_zTkNZB7",
        "outputId": "61f556a1-c66c-4001-b49a-c83ca23a3664"
      },
      "execution_count": null,
      "outputs": [
        {
          "output_type": "display_data",
          "data": {
            "text/plain": [
              "<IPython.core.display.HTML object>"
            ],
            "text/html": [
              "\n",
              "     <input type=\"file\" id=\"files-4e4fccb8-bac7-4988-97da-7c42df271ab5\" name=\"files[]\" multiple disabled\n",
              "        style=\"border:none\" />\n",
              "     <output id=\"result-4e4fccb8-bac7-4988-97da-7c42df271ab5\">\n",
              "      Upload widget is only available when the cell has been executed in the\n",
              "      current browser session. Please rerun this cell to enable.\n",
              "      </output>\n",
              "      <script>// Copyright 2017 Google LLC\n",
              "//\n",
              "// Licensed under the Apache License, Version 2.0 (the \"License\");\n",
              "// you may not use this file except in compliance with the License.\n",
              "// You may obtain a copy of the License at\n",
              "//\n",
              "//      http://www.apache.org/licenses/LICENSE-2.0\n",
              "//\n",
              "// Unless required by applicable law or agreed to in writing, software\n",
              "// distributed under the License is distributed on an \"AS IS\" BASIS,\n",
              "// WITHOUT WARRANTIES OR CONDITIONS OF ANY KIND, either express or implied.\n",
              "// See the License for the specific language governing permissions and\n",
              "// limitations under the License.\n",
              "\n",
              "/**\n",
              " * @fileoverview Helpers for google.colab Python module.\n",
              " */\n",
              "(function(scope) {\n",
              "function span(text, styleAttributes = {}) {\n",
              "  const element = document.createElement('span');\n",
              "  element.textContent = text;\n",
              "  for (const key of Object.keys(styleAttributes)) {\n",
              "    element.style[key] = styleAttributes[key];\n",
              "  }\n",
              "  return element;\n",
              "}\n",
              "\n",
              "// Max number of bytes which will be uploaded at a time.\n",
              "const MAX_PAYLOAD_SIZE = 100 * 1024;\n",
              "\n",
              "function _uploadFiles(inputId, outputId) {\n",
              "  const steps = uploadFilesStep(inputId, outputId);\n",
              "  const outputElement = document.getElementById(outputId);\n",
              "  // Cache steps on the outputElement to make it available for the next call\n",
              "  // to uploadFilesContinue from Python.\n",
              "  outputElement.steps = steps;\n",
              "\n",
              "  return _uploadFilesContinue(outputId);\n",
              "}\n",
              "\n",
              "// This is roughly an async generator (not supported in the browser yet),\n",
              "// where there are multiple asynchronous steps and the Python side is going\n",
              "// to poll for completion of each step.\n",
              "// This uses a Promise to block the python side on completion of each step,\n",
              "// then passes the result of the previous step as the input to the next step.\n",
              "function _uploadFilesContinue(outputId) {\n",
              "  const outputElement = document.getElementById(outputId);\n",
              "  const steps = outputElement.steps;\n",
              "\n",
              "  const next = steps.next(outputElement.lastPromiseValue);\n",
              "  return Promise.resolve(next.value.promise).then((value) => {\n",
              "    // Cache the last promise value to make it available to the next\n",
              "    // step of the generator.\n",
              "    outputElement.lastPromiseValue = value;\n",
              "    return next.value.response;\n",
              "  });\n",
              "}\n",
              "\n",
              "/**\n",
              " * Generator function which is called between each async step of the upload\n",
              " * process.\n",
              " * @param {string} inputId Element ID of the input file picker element.\n",
              " * @param {string} outputId Element ID of the output display.\n",
              " * @return {!Iterable<!Object>} Iterable of next steps.\n",
              " */\n",
              "function* uploadFilesStep(inputId, outputId) {\n",
              "  const inputElement = document.getElementById(inputId);\n",
              "  inputElement.disabled = false;\n",
              "\n",
              "  const outputElement = document.getElementById(outputId);\n",
              "  outputElement.innerHTML = '';\n",
              "\n",
              "  const pickedPromise = new Promise((resolve) => {\n",
              "    inputElement.addEventListener('change', (e) => {\n",
              "      resolve(e.target.files);\n",
              "    });\n",
              "  });\n",
              "\n",
              "  const cancel = document.createElement('button');\n",
              "  inputElement.parentElement.appendChild(cancel);\n",
              "  cancel.textContent = 'Cancel upload';\n",
              "  const cancelPromise = new Promise((resolve) => {\n",
              "    cancel.onclick = () => {\n",
              "      resolve(null);\n",
              "    };\n",
              "  });\n",
              "\n",
              "  // Wait for the user to pick the files.\n",
              "  const files = yield {\n",
              "    promise: Promise.race([pickedPromise, cancelPromise]),\n",
              "    response: {\n",
              "      action: 'starting',\n",
              "    }\n",
              "  };\n",
              "\n",
              "  cancel.remove();\n",
              "\n",
              "  // Disable the input element since further picks are not allowed.\n",
              "  inputElement.disabled = true;\n",
              "\n",
              "  if (!files) {\n",
              "    return {\n",
              "      response: {\n",
              "        action: 'complete',\n",
              "      }\n",
              "    };\n",
              "  }\n",
              "\n",
              "  for (const file of files) {\n",
              "    const li = document.createElement('li');\n",
              "    li.append(span(file.name, {fontWeight: 'bold'}));\n",
              "    li.append(span(\n",
              "        `(${file.type || 'n/a'}) - ${file.size} bytes, ` +\n",
              "        `last modified: ${\n",
              "            file.lastModifiedDate ? file.lastModifiedDate.toLocaleDateString() :\n",
              "                                    'n/a'} - `));\n",
              "    const percent = span('0% done');\n",
              "    li.appendChild(percent);\n",
              "\n",
              "    outputElement.appendChild(li);\n",
              "\n",
              "    const fileDataPromise = new Promise((resolve) => {\n",
              "      const reader = new FileReader();\n",
              "      reader.onload = (e) => {\n",
              "        resolve(e.target.result);\n",
              "      };\n",
              "      reader.readAsArrayBuffer(file);\n",
              "    });\n",
              "    // Wait for the data to be ready.\n",
              "    let fileData = yield {\n",
              "      promise: fileDataPromise,\n",
              "      response: {\n",
              "        action: 'continue',\n",
              "      }\n",
              "    };\n",
              "\n",
              "    // Use a chunked sending to avoid message size limits. See b/62115660.\n",
              "    let position = 0;\n",
              "    do {\n",
              "      const length = Math.min(fileData.byteLength - position, MAX_PAYLOAD_SIZE);\n",
              "      const chunk = new Uint8Array(fileData, position, length);\n",
              "      position += length;\n",
              "\n",
              "      const base64 = btoa(String.fromCharCode.apply(null, chunk));\n",
              "      yield {\n",
              "        response: {\n",
              "          action: 'append',\n",
              "          file: file.name,\n",
              "          data: base64,\n",
              "        },\n",
              "      };\n",
              "\n",
              "      let percentDone = fileData.byteLength === 0 ?\n",
              "          100 :\n",
              "          Math.round((position / fileData.byteLength) * 100);\n",
              "      percent.textContent = `${percentDone}% done`;\n",
              "\n",
              "    } while (position < fileData.byteLength);\n",
              "  }\n",
              "\n",
              "  // All done.\n",
              "  yield {\n",
              "    response: {\n",
              "      action: 'complete',\n",
              "    }\n",
              "  };\n",
              "}\n",
              "\n",
              "scope.google = scope.google || {};\n",
              "scope.google.colab = scope.google.colab || {};\n",
              "scope.google.colab._files = {\n",
              "  _uploadFiles,\n",
              "  _uploadFilesContinue,\n",
              "};\n",
              "})(self);\n",
              "</script> "
            ]
          },
          "metadata": {}
        }
      ]
    },
    {
      "cell_type": "code",
      "source": [
        "# Si usas pandas\n",
        "import pandas as pd\n",
        "\n",
        "# Leer CSV\n",
        "df = pd.read_csv('/content/mi_archivo.csv')\n",
        "\n",
        "# Guardar CSV\n",
        "df.to_csv('/content/mi_archivo_guardado.csv', index=False)\n"
      ],
      "metadata": {
        "id": "ZZNfya4SNjxM"
      },
      "execution_count": null,
      "outputs": []
    },
    {
      "cell_type": "markdown",
      "source": [
        "## Tabla de contenidos"
      ],
      "metadata": {
        "id": "tgjC64bjN-Sd"
      }
    },
    {
      "cell_type": "markdown",
      "source": [
        "![picture](https://drive.google.com/uc?id=1gUEbXDMYZh46mo61o5CWj63JgNA9Hjz6)"
      ],
      "metadata": {
        "id": "fFMVufZpQNRx"
      }
    },
    {
      "cell_type": "markdown",
      "source": [
        "## Visualizaciones y otras librerias de python\n",
        "Colab te permite importar librerias conocidas de python como numpy, pandas, matplotlib, entre otros y ademas generar visualizaciones dentro del cuaderno. A continuacion un ejemplo"
      ],
      "metadata": {
        "id": "5fCMCZHmPLiR"
      }
    },
    {
      "cell_type": "code",
      "source": [
        "# Primero, vamos a importar las bibliotecas necesarias\n",
        "import matplotlib.pyplot as plt\n",
        "import numpy as np\n",
        "\n",
        "# Generar algunos datos\n",
        "x = np.linspace(0, 10, 100)  # 100 puntos entre 0 y 10\n",
        "y = np.sin(x)                # Seno de esos puntos\n",
        "\n",
        "# Crear la visualización\n",
        "plt.figure(figsize=(5,3))   # Tamaño de la figura\n",
        "plt.plot(x, y, label='Función seno', color='blue')\n",
        "plt.title('Visualización Simple con Matplotlib en Google Colab')\n",
        "plt.xlabel('Eje X')\n",
        "plt.ylabel('Eje Y')\n",
        "plt.legend()                 # Mostrar leyenda\n",
        "plt.grid(True)               # Mostrar rejilla\n",
        "plt.show()\n"
      ],
      "metadata": {
        "colab": {
          "base_uri": "https://localhost:8080/",
          "height": 334
        },
        "id": "bXa0i4sePQ7u",
        "outputId": "141ca511-8a28-40fb-f3df-0a15b1b1cd42"
      },
      "execution_count": null,
      "outputs": [
        {
          "output_type": "display_data",
          "data": {
            "text/plain": [
              "<Figure size 500x300 with 1 Axes>"
            ],
            "image/png": "[encoded data removed]"
          },
          "metadata": {}
        }
      ]
    },
    {
      "cell_type": "markdown",
      "source": [
        "No tienes para que sacar los datos del Colab y tener muchos archivos fuera"
      ],
      "metadata": {
        "id": "Cp_UjUySPdWy"
      }
    },
    {
      "cell_type": "markdown",
      "source": [
        "## También puedes usarlo con R\n",
        "A pesar de que es generalmente usado con Python, es posible usarlo con R. Para eso debes ir a *Edit > Notebook settings*"
      ],
      "metadata": {
        "id": "AHvob6Q6Pzu5"
      }
    },
    {
      "cell_type": "markdown",
      "source": [
        "![picture](https://drive.google.com/uc?id=1ZrP4on4TOOBJSb2emfcYdjrbeqoBtnwe)"
      ],
      "metadata": {
        "id": "DQ9Q_RFvQOZo"
      }
    },
    {
      "cell_type": "markdown",
      "source": [
        "---\n",
        "# Síguenos en nuestras redes\n",
        "- TikTok: https://www.tiktok.com/@evoacdm\n",
        "- Instagram: https://www.instagram.com/evoacdm/\n",
        "- LinkedIn: https://www.linkedin.com/company/evoacmd/\n",
        "- YouTube: https://www.youtube.com/@evoacdm"
      ],
      "metadata": {
        "id": "KC6E3Z_lQe6A"
      }
    }
  ]
}