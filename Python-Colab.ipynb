{
  "nbformat": 4,
  "nbformat_minor": 0,
  "metadata": {
    "colab": {
      "provenance": [],
      "authorship_tag": "ABX9TyOja3KvDrJO8p6OFxgYVKUS",
      "include_colab_link": true
    },
    "kernelspec": {
      "name": "python3",
      "display_name": "Python 3"
    },
    "language_info": {
      "name": "python"
    }
  },
  "cells": [
    {
      "cell_type": "markdown",
      "metadata": {
        "id": "view-in-github",
        "colab_type": "text"
      },
      "source": [
        "<a href=\"https://colab.research.google.com/github/neuroartif/Curso-de-Python-Dalton/blob/main/Python-Colab.ipynb\" target=\"_parent\"><img src=\"https://colab.research.google.com/assets/colab-badge.svg\" alt=\"Open In Colab\"/></a>"
      ]
    },
    {
      "cell_type": "markdown",
      "source": [
        "# Curso de Python\n",
        "## Contenido\n",
        "\n",
        "### Inicio\n",
        "1.   Varibles\n",
        "2.   Tipos de datos\n",
        "3.   Condicionales\n",
        "4.   Operadores\n",
        "\n",
        "### Métodos\n",
        "\n",
        "\n",
        "1.  String\n",
        "2.   \n",
        "\n",
        "\n",
        "\n",
        "\n"
      ],
      "metadata": {
        "id": "cr95W7wWXGX1"
      }
    },
    {
      "cell_type": "markdown",
      "source": [
        "## **Inicio**\n"
      ],
      "metadata": {
        "id": "4AAOewihYy6c"
      }
    },
    {
      "cell_type": "markdown",
      "source": [
        "#### **Variables**\n",
        "La idea de variable es porque los datos contenidos pueden variar.\n",
        "Una varia es un espacio en la que almacenamos diversos datos.\n",
        "Las variables se declaran y se definen, la definición es el valor que tiene la variable.\n",
        "Ejemplo: nombre = \"Miguel\""
      ],
      "metadata": {
        "id": "uI2v5Uv1hqN0"
      }
    },
    {
      "cell_type": "code",
      "source": [
        "name = \"Miguel\"\n",
        "print(name) # Imprime el valor de la variable"
      ],
      "metadata": {
        "colab": {
          "base_uri": "https://localhost:8080/"
        },
        "id": "M0Bb5vNpbqr9",
        "outputId": "7081eb4b-fbfc-45de-876f-70ca91279626"
      },
      "execution_count": null,
      "outputs": [
        {
          "output_type": "stream",
          "name": "stdout",
          "text": [
            "Miguel\n"
          ]
        }
      ]
    },
    {
      "cell_type": "markdown",
      "source": [
        "Una vez se declara la variable, el valor de la misma se puede modificar o redefinir."
      ],
      "metadata": {
        "id": "G2YhmdJidRT8"
      }
    },
    {
      "cell_type": "code",
      "source": [
        "name = \"Miguel\"\n",
        "print(name)\n",
        "name = \"Pedro\"\n",
        "print(name)"
      ],
      "metadata": {
        "colab": {
          "base_uri": "https://localhost:8080/"
        },
        "id": "9CoaH-6QdjBo",
        "outputId": "48e6aa78-6f61-4ea0-c36c-573f075905cb"
      },
      "execution_count": null,
      "outputs": [
        {
          "output_type": "stream",
          "name": "stdout",
          "text": [
            "Miguel\n",
            "Pedro\n"
          ]
        }
      ]
    },
    {
      "cell_type": "markdown",
      "source": [
        "Variables numéricas"
      ],
      "metadata": {
        "id": "n1S3F3Oad8Db"
      }
    },
    {
      "cell_type": "code",
      "source": [
        "a = 1\n",
        "b = 2\n",
        "c = a + b\n",
        "print(c)"
      ],
      "metadata": {
        "colab": {
          "base_uri": "https://localhost:8080/"
        },
        "id": "WEBLzBqTeW2B",
        "outputId": "eca1b3e1-559f-492b-dab4-9cb1b484ab0d"
      },
      "execution_count": null,
      "outputs": [
        {
          "output_type": "stream",
          "name": "stdout",
          "text": [
            "3\n"
          ]
        }
      ]
    },
    {
      "cell_type": "markdown",
      "source": [
        "Operaciones aritméticas"
      ],
      "metadata": {
        "id": "9rGzx7njeo55"
      }
    },
    {
      "cell_type": "code",
      "source": [
        "sum = 5 + 2\n",
        "print(sum)\n",
        "rest = 13 - 4\n",
        "print(rest)\n",
        "mult = 3 * 7\n",
        "print(mult)\n",
        "div = 12 / 2\n",
        "print(div)\n",
        "pow = 2 ** 3\n",
        "print(pow)\n",
        "square_root = 81 ** 0.5\n",
        "print(square_root)"
      ],
      "metadata": {
        "colab": {
          "base_uri": "https://localhost:8080/"
        },
        "id": "tCmf6h7Mezs7",
        "outputId": "7cf720f3-869f-4536-b325-7a3594926561"
      },
      "execution_count": null,
      "outputs": [
        {
          "output_type": "stream",
          "name": "stdout",
          "text": [
            "7\n",
            "9\n",
            "21\n",
            "6.0\n",
            "8\n",
            "9.0\n"
          ]
        }
      ]
    },
    {
      "cell_type": "markdown",
      "source": [
        "Concatenacion con (+) : sirve para unir variables"
      ],
      "metadata": {
        "id": "USXdDxWqhfK0"
      }
    },
    {
      "cell_type": "code",
      "source": [
        "name = \"Miguel\"\n",
        "welcome = \"Hello, \" + name + \" How are you?\"\n",
        "print(welcome)"
      ],
      "metadata": {
        "colab": {
          "base_uri": "https://localhost:8080/"
        },
        "id": "lFbhbuQiiI7Y",
        "outputId": "beff67a2-0eed-4bcd-d069-df90a6c1865e"
      },
      "execution_count": null,
      "outputs": [
        {
          "output_type": "stream",
          "name": "stdout",
          "text": [
            "Hola, Miguel ¿Cómo estás?\n"
          ]
        }
      ]
    },
    {
      "cell_type": "markdown",
      "source": [
        "Concatenar con (f-String) : Sirve para integrar numeros en el texto. Python muestra la última declarada."
      ],
      "metadata": {
        "id": "rRT57A5QibQJ"
      }
    },
    {
      "cell_type": "code",
      "source": [
        "name = \"Pedro\"\n",
        "welcome = f\"Hello, {name} How are you?\"\n",
        "name = \"14\"\n",
        "welcome = f\"Hello, {name} How are you?\"\n",
        "print(welcome)"
      ],
      "metadata": {
        "colab": {
          "base_uri": "https://localhost:8080/"
        },
        "id": "9COL1nWSiovS",
        "outputId": "c5299da3-8810-4185-c891-1fe0f0a6054e"
      },
      "execution_count": null,
      "outputs": [
        {
          "output_type": "stream",
          "name": "stdout",
          "text": [
            "Hola, 14 How are you?\n"
          ]
        }
      ]
    },
    {
      "cell_type": "markdown",
      "source": [
        "¿Cómo borrar datos de la memoria? Hay que utilizar la funcion \"del\""
      ],
      "metadata": {
        "id": "-HKocNBlkSKe"
      }
    },
    {
      "cell_type": "code",
      "source": [
        "name = \"Pedro\"\n",
        "welcome = f\"Hello, {name} How are you?\"\n",
        "del welcome\n",
        "name = \"14\"\n",
        "welcome = f\"Hello, {name} How are you?\"\n",
        "name = \"14\"\n",
        "welcome = f\"Hello, {name} How are you?\"\n",
        "name = \"14\"\n",
        "del welcome\n",
        "welcome = f\"Hello, {name} How are you?\"\n",
        "del welcome\n",
        "print(welcome)"
      ],
      "metadata": {
        "colab": {
          "base_uri": "https://localhost:8080/",
          "height": 210
        },
        "id": "_9Fyu5vmkd9Y",
        "outputId": "c33e96c0-0115-4bd2-dc3b-a2a6a73603e1"
      },
      "execution_count": null,
      "outputs": [
        {
          "output_type": "error",
          "ename": "NameError",
          "evalue": "ignored",
          "traceback": [
            "\u001b[0;31m---------------------------------------------------------------------------\u001b[0m",
            "\u001b[0;31mNameError\u001b[0m                                 Traceback (most recent call last)",
            "\u001b[0;32m<ipython-input-19-c5cafdf442ba>\u001b[0m in \u001b[0;36m<cell line: 12>\u001b[0;34m()\u001b[0m\n\u001b[1;32m     10\u001b[0m \u001b[0mwelcome\u001b[0m \u001b[0;34m=\u001b[0m \u001b[0;34mf\"Hello, {name} How are you?\"\u001b[0m\u001b[0;34m\u001b[0m\u001b[0;34m\u001b[0m\u001b[0m\n\u001b[1;32m     11\u001b[0m \u001b[0;32mdel\u001b[0m \u001b[0mwelcome\u001b[0m\u001b[0;34m\u001b[0m\u001b[0;34m\u001b[0m\u001b[0m\n\u001b[0;32m---> 12\u001b[0;31m \u001b[0mprint\u001b[0m\u001b[0;34m(\u001b[0m\u001b[0mwelcome\u001b[0m\u001b[0;34m)\u001b[0m\u001b[0;34m\u001b[0m\u001b[0;34m\u001b[0m\u001b[0m\n\u001b[0m",
            "\u001b[0;31mNameError\u001b[0m: name 'welcome' is not defined"
          ]
        }
      ]
    },
    {
      "cell_type": "markdown",
      "source": [
        "Operadores de pertenencia (in, not in), sirven para encontrar elementos en nuestros datos, estos nos dan (True/False)\n",
        "Ejemplo:\n",
        "print(\"hello\" not in welcome) True - Negación de lo falso\n",
        "print(\"hello\" in welcome) False - Afirmación de lo falso"
      ],
      "metadata": {
        "id": "eSWEsoktns5r"
      }
    },
    {
      "cell_type": "code",
      "source": [
        "nombre = \"Miguel\"\n",
        "Welcome = f\"Hello, {name} How are you?\"\n",
        "name = \"Leiah\"\n",
        "welcome = f\"Hello, {name} ¿How are you?\"\n",
        "print(\"hello\" not in welcome)\n",
        "print(\"hello\" in welcome)\n",
        "print(\"Leiah\" in welcome)\n",
        "print(\"Leiah\" not in welcome)"
      ],
      "metadata": {
        "colab": {
          "base_uri": "https://localhost:8080/"
        },
        "id": "XNND7Vwfn3-P",
        "outputId": "240f6948-91ec-4f4e-ac39-52a7a5556f20"
      },
      "execution_count": null,
      "outputs": [
        {
          "output_type": "stream",
          "name": "stdout",
          "text": [
            "True\n",
            "False\n",
            "True\n",
            "False\n"
          ]
        }
      ]
    },
    {
      "cell_type": "markdown",
      "source": [
        "camelCase : sirve para poder poner varias palabras en una variable, se realiza escribiendo cada palabra siguiente con la inicial mayúscula"
      ],
      "metadata": {
        "id": "XQMEAy75ofK0"
      }
    },
    {
      "cell_type": "code",
      "source": [
        "userFullName = \"Miguel\"\n",
        "welcome = f\"Hello, {name} How are you?\"\n",
        "print(welcome)"
      ],
      "metadata": {
        "colab": {
          "base_uri": "https://localhost:8080/"
        },
        "id": "v_gn79bEooxn",
        "outputId": "da8ddc86-342f-4bba-e49d-04f2dcd609c2"
      },
      "execution_count": null,
      "outputs": [
        {
          "output_type": "stream",
          "name": "stdout",
          "text": [
            "Hello, Leiah How are you?\n"
          ]
        }
      ]
    },
    {
      "cell_type": "markdown",
      "source": [
        "snake_case : recomendado para separa palabras en las variables en Python"
      ],
      "metadata": {
        "id": "JbKzLAmfozQ2"
      }
    },
    {
      "cell_type": "code",
      "source": [
        "user_full_name = \"Miguel\"\n",
        "welcome = f\"Hello, {name} How are you?\"\n",
        "print(welcome)"
      ],
      "metadata": {
        "colab": {
          "base_uri": "https://localhost:8080/"
        },
        "id": "gg3S0UTmo3ei",
        "outputId": "4e420317-19ba-4a0e-fa29-2a4bfd17f41d"
      },
      "execution_count": null,
      "outputs": [
        {
          "output_type": "stream",
          "name": "stdout",
          "text": [
            "Hello, Leiah How are you?\n"
          ]
        }
      ]
    }
  ]
}